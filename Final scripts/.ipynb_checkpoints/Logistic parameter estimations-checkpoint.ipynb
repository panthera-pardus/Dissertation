{
 "cells": [
  {
   "cell_type": "code",
   "execution_count": 98,
   "metadata": {},
   "outputs": [],
   "source": [
    "%matplotlib notebook\n",
    "import pickle\n",
    "import os\n",
    "import pandas as pd\n",
    "import numpy as np\n",
    "from sklearn.metrics import confusion_matrix, f1_score, accuracy_score, roc_curve, roc_auc_score\n",
    "import functools\n",
    "import matplotlib.pyplot as plt\n",
    "import seaborn as sns\n",
    "\n",
    "sns.set_palette(\"Dark2\")\n",
    "sns.set_style(\"darkgrid\")\n",
    "\n",
    "\n",
    "\n",
    "os.chdir(\"/Users/andour/Google Drive/projects/Dissertation/Final data\")"
   ]
  },
  {
   "cell_type": "code",
   "execution_count": 99,
   "metadata": {},
   "outputs": [
    {
     "data": {
      "text/plain": [
       "Index(['index', 'dataset', 'parameters', 'noise_bucket', 'label', 'drift',\n",
       "       'x_array', 'y_array', 'logistic_evalutaion',\n",
       "       'logistic_param_estimation', 'logistic_posterior_integral',\n",
       "       'linear_evalutaion', 'linear_param_estimation',\n",
       "       'linear_posterior_integral', 'bayes_classification',\n",
       "       'waic_classification'],\n",
       "      dtype='object')"
      ]
     },
     "execution_count": 99,
     "metadata": {},
     "output_type": "execute_result"
    }
   ],
   "source": [
    "synthetic_dataset_freq = pickle.load(open( \"simulated_data_freq\", \"rb\" )).reset_index()\n",
    "synthetic_dataset_bayes = pickle.load(open( \"simulated_data_bayes\", \"rb\" )).reset_index()\n",
    "synthetic_dataset_bayes.columns"
   ]
  },
  {
   "cell_type": "code",
   "execution_count": 147,
   "metadata": {},
   "outputs": [
    {
     "data": {
      "text/plain": [
       "Index(['index', 'dataset', 'parameters', 'noise_bucket', 'label', 'drift',\n",
       "       'x_array', 'y_array', 'y_pred_linear', 'param_linear',\n",
       "       'y_pred_logistic', 'param_logistic', 'linear_mse', 'logistic_mse',\n",
       "       'linear_mae', 'logistic_mae', 'linear_r2', 'logistic_r2',\n",
       "       'likelihood_linear', 'likelihood_logistic', 'aic_linear',\n",
       "       'aic_logistic', 'bic_linear', 'bic_logistic', 'shanon_bic_logistic',\n",
       "       'shanon_bic_linear', 'shanon_aic_logistic', 'shanon_aic_linear',\n",
       "       'mse_classification', 'mae_classification', 'r2_classification',\n",
       "       'chi2_classification', 'aic_classification', 'bic_classification',\n",
       "       'shanon_bic_classification', 'shanon_aic_classification'],\n",
       "      dtype='object')"
      ]
     },
     "execution_count": 147,
     "metadata": {},
     "output_type": "execute_result"
    }
   ],
   "source": [
    "synthetic_dataset_freq.columns"
   ]
  },
  {
   "cell_type": "code",
   "execution_count": 176,
   "metadata": {},
   "outputs": [],
   "source": [
    "# take the true positive from the frequentist and bayesian methods\n",
    "\n",
    "tp_sample_freq = synthetic_dataset_freq.loc[(synthetic_dataset_freq.chi2_classification == synthetic_dataset_freq.label)]\n",
    "tp_sample_bayes = synthetic_dataset_bayes.loc[(synthetic_dataset_bayes.waic_classification == synthetic_dataset_bayes.label)]\n",
    "\n",
    "\n",
    "\n",
    "col_param_freq = ['index','parameters', 'noise_bucket', 'label','param_linear', 'param_logistic']\n",
    "col_param_bayes = ['index','parameters', 'noise_bucket', 'label','logistic_param_estimation', 'linear_param_estimation']\n"
   ]
  },
  {
   "cell_type": "code",
   "execution_count": 177,
   "metadata": {},
   "outputs": [],
   "source": [
    "tp_sample_freq = tp_sample_freq[col_param_freq].rename({'param_linear': 'param_linear_freq', 'param_logistic': 'param_log_freq'})\n",
    "tp_sample_bayes = tp_sample_bayes[col_param_bayes].rename({'linear_param_estimation': 'param_linear_bayes', 'logistic_param_estimation': 'param_log_bayes'})"
   ]
  },
  {
   "cell_type": "code",
   "execution_count": 178,
   "metadata": {},
   "outputs": [],
   "source": [
    "tp_sample_freq = tp_sample_freq[col_param_freq].rename({'param_linear': 'param_linear_freq', 'param_logistic': 'param_log_freq'}, axis = 1)\n",
    "tp_sample_bayes = tp_sample_bayes[col_param_bayes].rename({'linear_param_estimation': 'param_linear_bayes', 'logistic_param_estimation': 'param_log_bayes'}, axis = 1)\n"
   ]
  },
  {
   "cell_type": "code",
   "execution_count": 179,
   "metadata": {},
   "outputs": [],
   "source": [
    "def parameter_within(value, upper_limit, lower_limit):\n",
    "    if value >= lower_limit and value <= upper_limit:\n",
    "        return True\n",
    "    else:\n",
    "        return False\n",
    "    "
   ]
  },
  {
   "cell_type": "code",
   "execution_count": 180,
   "metadata": {},
   "outputs": [
    {
     "name": "stderr",
     "output_type": "stream",
     "text": [
      "/Users/andour/anaconda3/lib/python3.7/site-packages/ipykernel_launcher.py:8: SettingWithCopyWarning: \n",
      "A value is trying to be set on a copy of a slice from a DataFrame.\n",
      "Try using .loc[row_indexer,col_indexer] = value instead\n",
      "\n",
      "See the caveats in the documentation: http://pandas.pydata.org/pandas-docs/stable/indexing.html#indexing-view-versus-copy\n",
      "  \n"
     ]
    }
   ],
   "source": [
    "# Is a within beta limits? Limit the dataframe to linear models :\n",
    "\n",
    "tp_sample_freq_linear = tp_sample_freq.loc[tp_sample_freq.label == \"linear\"]\n",
    "\n",
    "tp_sample_freq_linear[\"param_estimation\"] = tp_sample_freq_linear.apply(lambda df : parameter_within(value = df.parameters[\"b\"], \n",
    "                                                    lower_limit = df.param_linear_freq[\"beta\"][0],\n",
    "                                                    upper_limit = df.param_linear_freq[\"beta\"][1] ), \n",
    "                                                          axis = 1)\n",
    "\n",
    "param_linear = tp_sample_freq_linear.groupby([\"noise_bucket\", \"param_estimation\"]).count().reset_index()\n",
    "total = param_linear.groupby(\"noise_bucket\").sum().loc[:,\"parameters\"].reset_index().rename({\"parameters\" : \"Total\"}, axis = 1)\n",
    "\n",
    "linear_freq = param_linear.merge(total, how=\"left\", on= \"noise_bucket\")[[\"param_estimation\",\"noise_bucket\",\"parameters\", \"Total\"]].\\\n",
    "groupby([\"noise_bucket\", \"param_estimation\"]).\\\n",
    "apply(lambda df : df[\"parameters\"]/df[\"Total\"] * 100)\n",
    "linear_freq = pd.DataFrame(linear_freq).reset_index().rename({0: \"Estimation Percentage Freq\"}, axis = 1)\n"
   ]
  },
  {
   "cell_type": "code",
   "execution_count": 181,
   "metadata": {},
   "outputs": [
    {
     "name": "stderr",
     "output_type": "stream",
     "text": [
      "/Users/andour/anaconda3/lib/python3.7/site-packages/ipykernel_launcher.py:6: SettingWithCopyWarning: \n",
      "A value is trying to be set on a copy of a slice from a DataFrame.\n",
      "Try using .loc[row_indexer,col_indexer] = value instead\n",
      "\n",
      "See the caveats in the documentation: http://pandas.pydata.org/pandas-docs/stable/indexing.html#indexing-view-versus-copy\n",
      "  \n"
     ]
    }
   ],
   "source": [
    "tp_sample_bayes_linear = tp_sample_bayes.loc[tp_sample_bayes.label == \"linear\"]\n",
    "\n",
    "tp_sample_bayes_linear[\"param_estimation\"] = tp_sample_bayes_linear.apply(lambda df : parameter_within(value = df.parameters[\"b\"], \n",
    "                                                    lower_limit = df.param_linear_bayes[\"beta\"][1],\n",
    "                                                    upper_limit = df.param_linear_bayes[\"beta\"][0] ), \n",
    "                                                          axis = 1)\n",
    "\n",
    "param_linear = tp_sample_bayes_linear.groupby([\"noise_bucket\", \"param_estimation\"]).count().reset_index()\n",
    "total = param_linear.groupby(\"noise_bucket\").sum().loc[:,\"parameters\"].reset_index().rename({\"parameters\" : \"Total\"}, axis = 1)\n",
    "\n",
    "linear_bayes = param_linear.merge(total, how=\"left\", on= \"noise_bucket\")[[\"param_estimation\",\"noise_bucket\",\"parameters\", \"Total\"]].\\\n",
    "groupby([\"noise_bucket\", \"param_estimation\"]).\\\n",
    "apply(lambda df : df[\"parameters\"]/df[\"Total\"] * 100)\n",
    "linear_bayes = pd.DataFrame(linear_bayes).reset_index().rename({0: \"Estimation Percentage Bayes\"}, axis = 1)\n"
   ]
  },
  {
   "cell_type": "code",
   "execution_count": 182,
   "metadata": {},
   "outputs": [
    {
     "data": {
      "text/html": [
       "<div>\n",
       "<style scoped>\n",
       "    .dataframe tbody tr th:only-of-type {\n",
       "        vertical-align: middle;\n",
       "    }\n",
       "\n",
       "    .dataframe tbody tr th {\n",
       "        vertical-align: top;\n",
       "    }\n",
       "\n",
       "    .dataframe thead th {\n",
       "        text-align: right;\n",
       "    }\n",
       "</style>\n",
       "<table border=\"1\" class=\"dataframe\">\n",
       "  <thead>\n",
       "    <tr style=\"text-align: right;\">\n",
       "      <th></th>\n",
       "      <th>noise_bucket</th>\n",
       "      <th>param_estimation</th>\n",
       "      <th>level_2</th>\n",
       "      <th>Estimation Percentage Freq</th>\n",
       "      <th>Estimation Percentage Bayes</th>\n",
       "    </tr>\n",
       "  </thead>\n",
       "  <tbody>\n",
       "    <tr>\n",
       "      <th>0</th>\n",
       "      <td>0.1</td>\n",
       "      <td>False</td>\n",
       "      <td>0</td>\n",
       "      <td>38.333333</td>\n",
       "      <td>44.000000</td>\n",
       "    </tr>\n",
       "    <tr>\n",
       "      <th>1</th>\n",
       "      <td>0.1</td>\n",
       "      <td>True</td>\n",
       "      <td>1</td>\n",
       "      <td>61.666667</td>\n",
       "      <td>56.000000</td>\n",
       "    </tr>\n",
       "    <tr>\n",
       "      <th>2</th>\n",
       "      <td>0.2</td>\n",
       "      <td>False</td>\n",
       "      <td>2</td>\n",
       "      <td>37.254902</td>\n",
       "      <td>36.500000</td>\n",
       "    </tr>\n",
       "    <tr>\n",
       "      <th>3</th>\n",
       "      <td>0.2</td>\n",
       "      <td>True</td>\n",
       "      <td>3</td>\n",
       "      <td>62.745098</td>\n",
       "      <td>63.500000</td>\n",
       "    </tr>\n",
       "    <tr>\n",
       "      <th>4</th>\n",
       "      <td>0.3</td>\n",
       "      <td>False</td>\n",
       "      <td>4</td>\n",
       "      <td>30.357143</td>\n",
       "      <td>43.000000</td>\n",
       "    </tr>\n",
       "    <tr>\n",
       "      <th>5</th>\n",
       "      <td>0.3</td>\n",
       "      <td>True</td>\n",
       "      <td>5</td>\n",
       "      <td>69.642857</td>\n",
       "      <td>57.000000</td>\n",
       "    </tr>\n",
       "    <tr>\n",
       "      <th>6</th>\n",
       "      <td>0.4</td>\n",
       "      <td>False</td>\n",
       "      <td>6</td>\n",
       "      <td>37.500000</td>\n",
       "      <td>49.746193</td>\n",
       "    </tr>\n",
       "    <tr>\n",
       "      <th>7</th>\n",
       "      <td>0.4</td>\n",
       "      <td>True</td>\n",
       "      <td>7</td>\n",
       "      <td>62.500000</td>\n",
       "      <td>50.253807</td>\n",
       "    </tr>\n",
       "    <tr>\n",
       "      <th>8</th>\n",
       "      <td>0.5</td>\n",
       "      <td>False</td>\n",
       "      <td>8</td>\n",
       "      <td>36.956522</td>\n",
       "      <td>50.510204</td>\n",
       "    </tr>\n",
       "    <tr>\n",
       "      <th>9</th>\n",
       "      <td>0.5</td>\n",
       "      <td>True</td>\n",
       "      <td>9</td>\n",
       "      <td>63.043478</td>\n",
       "      <td>49.489796</td>\n",
       "    </tr>\n",
       "    <tr>\n",
       "      <th>10</th>\n",
       "      <td>0.6</td>\n",
       "      <td>False</td>\n",
       "      <td>10</td>\n",
       "      <td>29.824561</td>\n",
       "      <td>55.483871</td>\n",
       "    </tr>\n",
       "    <tr>\n",
       "      <th>11</th>\n",
       "      <td>0.6</td>\n",
       "      <td>True</td>\n",
       "      <td>11</td>\n",
       "      <td>70.175439</td>\n",
       "      <td>44.516129</td>\n",
       "    </tr>\n",
       "    <tr>\n",
       "      <th>12</th>\n",
       "      <td>0.7</td>\n",
       "      <td>False</td>\n",
       "      <td>12</td>\n",
       "      <td>34.482759</td>\n",
       "      <td>43.965517</td>\n",
       "    </tr>\n",
       "    <tr>\n",
       "      <th>13</th>\n",
       "      <td>0.7</td>\n",
       "      <td>True</td>\n",
       "      <td>13</td>\n",
       "      <td>65.517241</td>\n",
       "      <td>56.034483</td>\n",
       "    </tr>\n",
       "    <tr>\n",
       "      <th>14</th>\n",
       "      <td>0.8</td>\n",
       "      <td>False</td>\n",
       "      <td>14</td>\n",
       "      <td>42.307692</td>\n",
       "      <td>57.264957</td>\n",
       "    </tr>\n",
       "    <tr>\n",
       "      <th>15</th>\n",
       "      <td>0.8</td>\n",
       "      <td>True</td>\n",
       "      <td>15</td>\n",
       "      <td>57.692308</td>\n",
       "      <td>42.735043</td>\n",
       "    </tr>\n",
       "    <tr>\n",
       "      <th>16</th>\n",
       "      <td>0.9</td>\n",
       "      <td>False</td>\n",
       "      <td>16</td>\n",
       "      <td>36.538462</td>\n",
       "      <td>46.391753</td>\n",
       "    </tr>\n",
       "    <tr>\n",
       "      <th>17</th>\n",
       "      <td>0.9</td>\n",
       "      <td>True</td>\n",
       "      <td>17</td>\n",
       "      <td>63.461538</td>\n",
       "      <td>53.608247</td>\n",
       "    </tr>\n",
       "    <tr>\n",
       "      <th>18</th>\n",
       "      <td>1.0</td>\n",
       "      <td>False</td>\n",
       "      <td>18</td>\n",
       "      <td>21.428571</td>\n",
       "      <td>62.790698</td>\n",
       "    </tr>\n",
       "    <tr>\n",
       "      <th>19</th>\n",
       "      <td>1.0</td>\n",
       "      <td>True</td>\n",
       "      <td>19</td>\n",
       "      <td>78.571429</td>\n",
       "      <td>37.209302</td>\n",
       "    </tr>\n",
       "  </tbody>\n",
       "</table>\n",
       "</div>"
      ],
      "text/plain": [
       "    noise_bucket  param_estimation  level_2  Estimation Percentage Freq  \\\n",
       "0            0.1             False        0                   38.333333   \n",
       "1            0.1              True        1                   61.666667   \n",
       "2            0.2             False        2                   37.254902   \n",
       "3            0.2              True        3                   62.745098   \n",
       "4            0.3             False        4                   30.357143   \n",
       "5            0.3              True        5                   69.642857   \n",
       "6            0.4             False        6                   37.500000   \n",
       "7            0.4              True        7                   62.500000   \n",
       "8            0.5             False        8                   36.956522   \n",
       "9            0.5              True        9                   63.043478   \n",
       "10           0.6             False       10                   29.824561   \n",
       "11           0.6              True       11                   70.175439   \n",
       "12           0.7             False       12                   34.482759   \n",
       "13           0.7              True       13                   65.517241   \n",
       "14           0.8             False       14                   42.307692   \n",
       "15           0.8              True       15                   57.692308   \n",
       "16           0.9             False       16                   36.538462   \n",
       "17           0.9              True       17                   63.461538   \n",
       "18           1.0             False       18                   21.428571   \n",
       "19           1.0              True       19                   78.571429   \n",
       "\n",
       "    Estimation Percentage Bayes  \n",
       "0                     44.000000  \n",
       "1                     56.000000  \n",
       "2                     36.500000  \n",
       "3                     63.500000  \n",
       "4                     43.000000  \n",
       "5                     57.000000  \n",
       "6                     49.746193  \n",
       "7                     50.253807  \n",
       "8                     50.510204  \n",
       "9                     49.489796  \n",
       "10                    55.483871  \n",
       "11                    44.516129  \n",
       "12                    43.965517  \n",
       "13                    56.034483  \n",
       "14                    57.264957  \n",
       "15                    42.735043  \n",
       "16                    46.391753  \n",
       "17                    53.608247  \n",
       "18                    62.790698  \n",
       "19                    37.209302  "
      ]
     },
     "execution_count": 182,
     "metadata": {},
     "output_type": "execute_result"
    }
   ],
   "source": [
    "linear_best_estimates = pd.merge(linear_freq, linear_bayes)\n",
    "linear_best_estimates"
   ]
  },
  {
   "cell_type": "code",
   "execution_count": null,
   "metadata": {},
   "outputs": [],
   "source": [
    "linear_best_estimates.to_csv(\"shanon_bic_waic_linear.csv\")"
   ]
  },
  {
   "cell_type": "code",
   "execution_count": null,
   "metadata": {},
   "outputs": [],
   "source": []
  },
  {
   "cell_type": "code",
   "execution_count": null,
   "metadata": {},
   "outputs": [],
   "source": [
    "\n"
   ]
  },
  {
   "cell_type": "code",
   "execution_count": 60,
   "metadata": {},
   "outputs": [],
   "source": []
  },
  {
   "cell_type": "code",
   "execution_count": 62,
   "metadata": {},
   "outputs": [],
   "source": []
  },
  {
   "cell_type": "code",
   "execution_count": null,
   "metadata": {},
   "outputs": [],
   "source": []
  },
  {
   "cell_type": "code",
   "execution_count": null,
   "metadata": {},
   "outputs": [],
   "source": []
  }
 ],
 "metadata": {
  "kernelspec": {
   "display_name": "Python 3",
   "language": "python",
   "name": "python3"
  },
  "language_info": {
   "codemirror_mode": {
    "name": "ipython",
    "version": 3
   },
   "file_extension": ".py",
   "mimetype": "text/x-python",
   "name": "python",
   "nbconvert_exporter": "python",
   "pygments_lexer": "ipython3",
   "version": "3.7.3"
  }
 },
 "nbformat": 4,
 "nbformat_minor": 2
}

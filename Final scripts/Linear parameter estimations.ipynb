{
 "cells": [
  {
   "cell_type": "code",
   "execution_count": 98,
   "metadata": {},
   "outputs": [],
   "source": [
    "%matplotlib notebook\n",
    "import pickle\n",
    "import os\n",
    "import pandas as pd\n",
    "import numpy as np\n",
    "from sklearn.metrics import confusion_matrix, f1_score, accuracy_score, roc_curve, roc_auc_score\n",
    "import functools\n",
    "import matplotlib.pyplot as plt\n",
    "import seaborn as sns\n",
    "\n",
    "sns.set_palette(\"Dark2\")\n",
    "sns.set_style(\"darkgrid\")\n",
    "\n",
    "\n",
    "\n",
    "os.chdir(\"/Users/andour/Google Drive/projects/Dissertation/Final data\")"
   ]
  },
  {
   "cell_type": "code",
   "execution_count": 99,
   "metadata": {},
   "outputs": [
    {
     "data": {
      "text/plain": [
       "Index(['index', 'dataset', 'parameters', 'noise_bucket', 'label', 'drift',\n",
       "       'x_array', 'y_array', 'logistic_evalutaion',\n",
       "       'logistic_param_estimation', 'logistic_posterior_integral',\n",
       "       'linear_evalutaion', 'linear_param_estimation',\n",
       "       'linear_posterior_integral', 'bayes_classification',\n",
       "       'waic_classification'],\n",
       "      dtype='object')"
      ]
     },
     "execution_count": 99,
     "metadata": {},
     "output_type": "execute_result"
    }
   ],
   "source": [
    "synthetic_dataset_freq = pickle.load(open( \"simulated_data_freq\", \"rb\" )).reset_index()\n",
    "synthetic_dataset_bayes = pickle.load(open( \"simulated_data_bayes\", \"rb\" )).reset_index()\n",
    "synthetic_dataset_bayes.columns"
   ]
  },
  {
   "cell_type": "code",
   "execution_count": 147,
   "metadata": {},
   "outputs": [
    {
     "data": {
      "text/plain": [
       "Index(['index', 'dataset', 'parameters', 'noise_bucket', 'label', 'drift',\n",
       "       'x_array', 'y_array', 'y_pred_linear', 'param_linear',\n",
       "       'y_pred_logistic', 'param_logistic', 'linear_mse', 'logistic_mse',\n",
       "       'linear_mae', 'logistic_mae', 'linear_r2', 'logistic_r2',\n",
       "       'likelihood_linear', 'likelihood_logistic', 'aic_linear',\n",
       "       'aic_logistic', 'bic_linear', 'bic_logistic', 'shanon_bic_logistic',\n",
       "       'shanon_bic_linear', 'shanon_aic_logistic', 'shanon_aic_linear',\n",
       "       'mse_classification', 'mae_classification', 'r2_classification',\n",
       "       'chi2_classification', 'aic_classification', 'bic_classification',\n",
       "       'shanon_bic_classification', 'shanon_aic_classification'],\n",
       "      dtype='object')"
      ]
     },
     "execution_count": 147,
     "metadata": {},
     "output_type": "execute_result"
    }
   ],
   "source": [
    "synthetic_dataset_freq.columns"
   ]
  },
  {
   "cell_type": "code",
   "execution_count": 176,
   "metadata": {},
   "outputs": [],
   "source": [
    "# take the true positive from the frequentist and bayesian methods\n",
    "\n",
    "tp_sample_freq = synthetic_dataset_freq.loc[(synthetic_dataset_freq.chi2_classification == synthetic_dataset_freq.label)]\n",
    "tp_sample_bayes = synthetic_dataset_bayes.loc[(synthetic_dataset_bayes.waic_classification == synthetic_dataset_bayes.label)]\n",
    "\n",
    "\n",
    "\n",
    "col_param_freq = ['index','parameters', 'noise_bucket', 'label','param_linear', 'param_logistic']\n",
    "col_param_bayes = ['index','parameters', 'noise_bucket', 'label','logistic_param_estimation', 'linear_param_estimation']\n"
   ]
  },
  {
   "cell_type": "code",
   "execution_count": 177,
   "metadata": {},
   "outputs": [],
   "source": [
    "tp_sample_freq = tp_sample_freq[col_param_freq].rename({'param_linear': 'param_linear_freq', 'param_logistic': 'param_log_freq'})\n",
    "tp_sample_bayes = tp_sample_bayes[col_param_bayes].rename({'linear_param_estimation': 'param_linear_bayes', 'logistic_param_estimation': 'param_log_bayes'})"
   ]
  },
  {
   "cell_type": "code",
   "execution_count": 178,
   "metadata": {},
   "outputs": [],
   "source": [
    "tp_sample_freq = tp_sample_freq[col_param_freq].rename({'param_linear': 'param_linear_freq', 'param_logistic': 'param_log_freq'}, axis = 1)\n",
    "tp_sample_bayes = tp_sample_bayes[col_param_bayes].rename({'linear_param_estimation': 'param_linear_bayes', 'logistic_param_estimation': 'param_log_bayes'}, axis = 1)\n"
   ]
  },
  {
   "cell_type": "code",
   "execution_count": 229,
   "metadata": {},
   "outputs": [
    {
     "name": "stdout",
     "output_type": "stream",
     "text": [
      "0.0038314176245335323\n",
      "[0.003835453995060835, 0.0036795338614370445]\n"
     ]
    },
    {
     "data": {
      "text/plain": [
       "0.001053492707622565"
      ]
     },
     "execution_count": 229,
     "metadata": {},
     "output_type": "execute_result"
    }
   ],
   "source": [
    "b = tp_sample_bayes_linear.iloc[106][\"parameters\"][\"b\"]\n",
    "beta = tp_sample_bayes_linear.iloc[106][\"param_linear_bayes\"][\"beta\"]\n",
    "print(b)\n",
    "print(beta)\n",
    "\n",
    "(0.003835453995060835- 0.0038314176245335323)/ 0.0038314176245335323"
   ]
  },
  {
   "cell_type": "code",
   "execution_count": 214,
   "metadata": {},
   "outputs": [],
   "source": [
    "def parameter_within(value, upper_limit, lower_limit):\n",
    "    if value >= round(lower_limit, 3) and value <= round(upper_limit, 3):\n",
    "        return True\n",
    "    else:\n",
    "        return False\n",
    "    "
   ]
  },
  {
   "cell_type": "code",
   "execution_count": 215,
   "metadata": {},
   "outputs": [
    {
     "name": "stderr",
     "output_type": "stream",
     "text": [
      "/Users/andour/anaconda3/lib/python3.7/site-packages/ipykernel_launcher.py:8: SettingWithCopyWarning: \n",
      "A value is trying to be set on a copy of a slice from a DataFrame.\n",
      "Try using .loc[row_indexer,col_indexer] = value instead\n",
      "\n",
      "See the caveats in the documentation: http://pandas.pydata.org/pandas-docs/stable/indexing.html#indexing-view-versus-copy\n",
      "  \n"
     ]
    }
   ],
   "source": [
    "# Is a within beta limits? Limit the dataframe to linear models :\n",
    "\n",
    "tp_sample_freq_linear = tp_sample_freq.loc[tp_sample_freq.label == \"linear\"]\n",
    "\n",
    "tp_sample_freq_linear[\"param_estimation\"] = tp_sample_freq_linear.apply(lambda df : parameter_within(value = df.parameters[\"b\"], \n",
    "                                                    lower_limit = df.param_linear_freq[\"beta\"][0],\n",
    "                                                    upper_limit = df.param_linear_freq[\"beta\"][1] ), \n",
    "                                                          axis = 1)\n",
    "\n",
    "param_linear = tp_sample_freq_linear.groupby([\"noise_bucket\", \"param_estimation\"]).count().reset_index()\n",
    "total = param_linear.groupby(\"noise_bucket\").sum().loc[:,\"parameters\"].reset_index().rename({\"parameters\" : \"Total\"}, axis = 1)\n",
    "\n",
    "linear_freq = param_linear.merge(total, how=\"left\", on= \"noise_bucket\")[[\"param_estimation\",\"noise_bucket\",\"parameters\", \"Total\"]].\\\n",
    "groupby([\"noise_bucket\", \"param_estimation\"]).\\\n",
    "apply(lambda df : df[\"parameters\"]/df[\"Total\"] * 100)\n",
    "linear_freq = pd.DataFrame(linear_freq).reset_index().rename({0: \"Estimation Percentage Freq\"}, axis = 1)\n"
   ]
  },
  {
   "cell_type": "code",
   "execution_count": 216,
   "metadata": {},
   "outputs": [
    {
     "name": "stderr",
     "output_type": "stream",
     "text": [
      "/Users/andour/anaconda3/lib/python3.7/site-packages/ipykernel_launcher.py:6: SettingWithCopyWarning: \n",
      "A value is trying to be set on a copy of a slice from a DataFrame.\n",
      "Try using .loc[row_indexer,col_indexer] = value instead\n",
      "\n",
      "See the caveats in the documentation: http://pandas.pydata.org/pandas-docs/stable/indexing.html#indexing-view-versus-copy\n",
      "  \n"
     ]
    }
   ],
   "source": [
    "tp_sample_bayes_linear = tp_sample_bayes.loc[tp_sample_bayes.label == \"linear\"]\n",
    "\n",
    "tp_sample_bayes_linear[\"param_estimation\"] = tp_sample_bayes_linear.apply(lambda df : parameter_within(value = df.parameters[\"b\"], \n",
    "                                                    lower_limit = df.param_linear_bayes[\"beta\"][1],\n",
    "                                                    upper_limit = df.param_linear_bayes[\"beta\"][0] ), \n",
    "                                                          axis = 1)\n",
    "\n",
    "param_linear = tp_sample_bayes_linear.groupby([\"noise_bucket\", \"param_estimation\"]).count().reset_index()\n",
    "total = param_linear.groupby(\"noise_bucket\").sum().loc[:,\"parameters\"].reset_index().rename({\"parameters\" : \"Total\"}, axis = 1)\n",
    "\n",
    "linear_bayes = param_linear.merge(total, how=\"left\", on= \"noise_bucket\")[[\"param_estimation\",\"noise_bucket\",\"parameters\", \"Total\"]].\\\n",
    "groupby([\"noise_bucket\", \"param_estimation\"]).\\\n",
    "apply(lambda df : df[\"parameters\"]/df[\"Total\"] * 100)\n",
    "linear_bayes = pd.DataFrame(linear_bayes).reset_index().rename({0: \"Estimation Percentage Bayes\"}, axis = 1)\n"
   ]
  },
  {
   "cell_type": "code",
   "execution_count": 233,
   "metadata": {},
   "outputs": [
    {
     "data": {
      "text/plain": [
       "noise_bucket                    0.550000\n",
       "param_estimation                1.000000\n",
       "level_2                        10.000000\n",
       "Estimation Percentage Freq     66.048669\n",
       "Estimation Percentage Bayes    28.347065\n",
       "dtype: float64"
      ]
     },
     "execution_count": 233,
     "metadata": {},
     "output_type": "execute_result"
    }
   ],
   "source": [
    "linear_best_estimates = pd.merge(linear_freq, linear_bayes)\n",
    "linear_best_estimates"
   ]
  },
  {
   "cell_type": "code",
   "execution_count": null,
   "metadata": {},
   "outputs": [],
   "source": [
    "linear_best_estimates.to_csv(\"shanon_bic_waic_linear.csv\")"
   ]
  },
  {
   "cell_type": "code",
   "execution_count": null,
   "metadata": {},
   "outputs": [],
   "source": []
  },
  {
   "cell_type": "code",
   "execution_count": null,
   "metadata": {},
   "outputs": [],
   "source": [
    "\n"
   ]
  },
  {
   "cell_type": "code",
   "execution_count": 60,
   "metadata": {},
   "outputs": [],
   "source": []
  },
  {
   "cell_type": "code",
   "execution_count": 62,
   "metadata": {},
   "outputs": [],
   "source": []
  },
  {
   "cell_type": "code",
   "execution_count": null,
   "metadata": {},
   "outputs": [],
   "source": []
  },
  {
   "cell_type": "code",
   "execution_count": null,
   "metadata": {},
   "outputs": [],
   "source": []
  }
 ],
 "metadata": {
  "kernelspec": {
   "display_name": "Python 3",
   "language": "python",
   "name": "python3"
  },
  "language_info": {
   "codemirror_mode": {
    "name": "ipython",
    "version": 3
   },
   "file_extension": ".py",
   "mimetype": "text/x-python",
   "name": "python",
   "nbconvert_exporter": "python",
   "pygments_lexer": "ipython3",
   "version": "3.7.3"
  }
 },
 "nbformat": 4,
 "nbformat_minor": 2
}
